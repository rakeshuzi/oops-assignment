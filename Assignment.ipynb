{
 "cells": [
  {
   "cell_type": "code",
   "execution_count": 1,
   "id": "c35e9585-db59-4263-9986-cd90ecb92d9c",
   "metadata": {},
   "outputs": [
    {
     "name": "stdin",
     "output_type": "stream",
     "text": [
      "Enter your name:  rakesh\n",
      "Enter the number of movie tickets:  6\n",
      "Enter the age of person 1:  7\n",
      "Enter the age of person 2:  8\n",
      "Enter the age of person 3:  9\n",
      "Enter the age of person 4:  8\n",
      "Enter the age of person 5:  77\n",
      "Enter the age of person 6:  5\n",
      "Enter the movie name:  pk\n"
     ]
    },
    {
     "name": "stdout",
     "output_type": "stream",
     "text": [
      "Thank you rakesh for booking with us\n",
      "Your total is 600\n"
     ]
    }
   ],
   "source": [
    "class Ticket:\n",
    "    def __init__(self, name, ages, num_tickets, movie_name):\n",
    "        self.name = name\n",
    "        self.ages = ages\n",
    "        self.num_tickets = num_tickets\n",
    "        self.movie_name = movie_name\n",
    "\n",
    "    def calculation_of_price(self):\n",
    "        total = 0\n",
    "        for i in self.ages:\n",
    "            if age < 18:\n",
    "                ticket_price = 100\n",
    "            elif age > 60:\n",
    "                ticket_price = 100\n",
    "            else:\n",
    "                ticket_price = 150\n",
    "            total += ticket_price\n",
    "        return total\n",
    "\n",
    "    def book_tickets(self):\n",
    "        total_price = self.calculation_of_price()\n",
    "        print(f\"Thank you {self.name} for booking with us\")\n",
    "        print(f\"Your total is {total_price}\")\n",
    "\n",
    "if __name__ == \"__main__\":\n",
    "    name = input(\"Enter your name: \")\n",
    "    num_tickets = int(input(\"Enter the number of movie tickets: \"))\n",
    "    ages = []\n",
    "\n",
    "    for i in range(num_tickets):\n",
    "        age = int(input(f\"Enter the age of person {i+1}: \"))\n",
    "        ages.append(age)\n",
    "\n",
    "    movie_name = input(\"Enter the movie name: \")\n",
    "\n",
    "    customer_1 = Ticket(name, ages, num_tickets, movie_name)\n",
    "    customer_1.book_tickets()\n"
   ]
  },
  {
   "cell_type": "code",
   "execution_count": null,
   "id": "55662e91-d4f8-4ed9-a9dc-507953726bdd",
   "metadata": {},
   "outputs": [],
   "source": []
  }
 ],
 "metadata": {
  "kernelspec": {
   "display_name": "Python 3 (ipykernel)",
   "language": "python",
   "name": "python3"
  },
  "language_info": {
   "codemirror_mode": {
    "name": "ipython",
    "version": 3
   },
   "file_extension": ".py",
   "mimetype": "text/x-python",
   "name": "python",
   "nbconvert_exporter": "python",
   "pygments_lexer": "ipython3",
   "version": "3.12.3"
  }
 },
 "nbformat": 4,
 "nbformat_minor": 5
}
